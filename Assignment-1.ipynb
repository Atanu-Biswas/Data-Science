{
 "cells": [
  {
   "cell_type": "code",
   "execution_count": null,
   "id": "bf1daf6b-860f-486a-9621-5a2eed7a71ab",
   "metadata": {},
   "outputs": [],
   "source": [
    "#Q1. Create one variable containing following type of data:"
   ]
  },
  {
   "cell_type": "code",
   "execution_count": 1,
   "id": "125f7ea0-ce2f-4c7d-b423-c3a4980e58bb",
   "metadata": {},
   "outputs": [],
   "source": [
    "string_var = \"Hello, world!\"\n",
    "list_var = [1, 2, 3, 4, 5]\n",
    "float_var = 3.14\n",
    "tuple_var = (1, 2, 3, 4, 5)"
   ]
  },
  {
   "cell_type": "code",
   "execution_count": null,
   "id": "c5f62fe5-d37c-4143-941a-c3959e101e26",
   "metadata": {},
   "outputs": [],
   "source": [
    "#Q2. Determining data types of given variables:"
   ]
  },
  {
   "cell_type": "code",
   "execution_count": 2,
   "id": "9c35840c-ad45-4423-b1db-548d3c6512fc",
   "metadata": {},
   "outputs": [
    {
     "name": "stdout",
     "output_type": "stream",
     "text": [
      "<class 'str'>\n",
      "<class 'str'>\n",
      "<class 'list'>\n",
      "<class 'float'>\n"
     ]
    }
   ],
   "source": [
    "var1 = ''\n",
    "var2 = '[DS, ML, Python]'\n",
    "var3 = ['DS', 'ML', 'Python']\n",
    "var4 = 1.\n",
    "\n",
    "data_type_var1 = type(var1)\n",
    "data_type_var2 = type(var2)\n",
    "data_type_var3 = type(var3)\n",
    "data_type_var4 = type(var4)\n",
    "\n",
    "print(data_type_var1)\n",
    "print(data_type_var2)\n",
    "print(data_type_var3)\n",
    "print(data_type_var4)\n"
   ]
  },
  {
   "cell_type": "code",
   "execution_count": null,
   "id": "c3817a77-ae56-4d4a-9ea6-d25ffa74eabf",
   "metadata": {},
   "outputs": [],
   "source": [
    "#Q3. Explanation of operators:"
   ]
  },
  {
   "cell_type": "code",
   "execution_count": null,
   "id": "1217c05c-83a6-47e9-ab35-119b32b5760b",
   "metadata": {},
   "outputs": [],
   "source": [
    "#(i) '/' operator: It performs division and returns a float value."
   ]
  },
  {
   "cell_type": "code",
   "execution_count": 3,
   "id": "39895102-77e7-4d1c-a40e-82dad3a4b6c9",
   "metadata": {},
   "outputs": [
    {
     "name": "stdout",
     "output_type": "stream",
     "text": [
      "3.3333333333333335\n"
     ]
    }
   ],
   "source": [
    "result = 10 / 3\n",
    "print(result)"
   ]
  },
  {
   "cell_type": "code",
   "execution_count": null,
   "id": "9ff295ac-57ac-46fa-a73c-1fbd2501fd93",
   "metadata": {},
   "outputs": [],
   "source": [
    "#(ii) '%' operator: It performs modulus division and returns the remainder."
   ]
  },
  {
   "cell_type": "code",
   "execution_count": 4,
   "id": "1133c3a5-7db8-465b-bbb2-cdcaa4991c1c",
   "metadata": {},
   "outputs": [
    {
     "name": "stdout",
     "output_type": "stream",
     "text": [
      "1\n"
     ]
    }
   ],
   "source": [
    "result = 10 % 3\n",
    "print(result)"
   ]
  },
  {
   "cell_type": "code",
   "execution_count": null,
   "id": "6f95135f-c3b5-4f50-9316-cf153a683fc2",
   "metadata": {},
   "outputs": [],
   "source": [
    "#(iii) '//' operator: It performs floor division and returns the quotient as an integer, discarding any remainder."
   ]
  },
  {
   "cell_type": "code",
   "execution_count": 5,
   "id": "e2012cf5-cd5a-45dd-854e-fce8e5487851",
   "metadata": {},
   "outputs": [
    {
     "name": "stdout",
     "output_type": "stream",
     "text": [
      "3\n"
     ]
    }
   ],
   "source": [
    "result = 10 // 3\n",
    "print(result)"
   ]
  },
  {
   "cell_type": "code",
   "execution_count": null,
   "id": "d4f92b9a-d483-4669-a6b9-f3e17701ea7a",
   "metadata": {},
   "outputs": [],
   "source": [
    "#(iv) '**' operator: It performs exponentiation and returns the result of raising the first operand to the power of the second operand."
   ]
  },
  {
   "cell_type": "code",
   "execution_count": 6,
   "id": "97053409-6f64-4cea-be06-b46440d03200",
   "metadata": {},
   "outputs": [
    {
     "name": "stdout",
     "output_type": "stream",
     "text": [
      "8\n"
     ]
    }
   ],
   "source": [
    "result = 2 ** 3\n",
    "print(result)"
   ]
  },
  {
   "cell_type": "code",
   "execution_count": null,
   "id": "9fe9d5ac-6984-4d7d-b4f6-735670aead91",
   "metadata": {},
   "outputs": [],
   "source": [
    "#Q4. Creating a list and printing elements with their data types:"
   ]
  },
  {
   "cell_type": "code",
   "execution_count": 7,
   "id": "d6288c82-9d72-4006-bdd9-fcbe98ffe42b",
   "metadata": {},
   "outputs": [
    {
     "name": "stdout",
     "output_type": "stream",
     "text": [
      "10 <class 'int'>\n",
      "Hello <class 'str'>\n",
      "3.14 <class 'float'>\n",
      "True <class 'bool'>\n",
      "[1, 2, 3] <class 'list'>\n",
      "{'name': 'John'} <class 'dict'>\n",
      "(4, 5, 6) <class 'tuple'>\n",
      "None <class 'NoneType'>\n",
      "1000.0 <class 'float'>\n",
      "World <class 'str'>\n"
     ]
    }
   ],
   "source": [
    "my_list = [10, 'Hello', 3.14, True, [1, 2, 3], {'name': 'John'}, (4, 5, 6), None, 1000.0, 'World']\n",
    "\n",
    "for item in my_list:\n",
    "    print(item, type(item))"
   ]
  },
  {
   "cell_type": "code",
   "execution_count": null,
   "id": "e5c1a4a1-8aa2-4116-9d9d-57915a5f43e8",
   "metadata": {},
   "outputs": [],
   "source": [
    "#Q5. Verifying divisibility using a while loop:"
   ]
  },
  {
   "cell_type": "code",
   "execution_count": 8,
   "id": "91b253f8-ecfa-468c-90d0-126ac820cfe8",
   "metadata": {},
   "outputs": [
    {
     "name": "stdout",
     "output_type": "stream",
     "text": [
      "A is divisible by B: 1 times\n"
     ]
    }
   ],
   "source": [
    "A = 20\n",
    "B = 4\n",
    "count = 0\n",
    "\n",
    "while A % B == 0:\n",
    "    A = A / B\n",
    "    count += 1\n",
    "\n",
    "print(\"A is divisible by B:\", count, \"times\")"
   ]
  },
  {
   "cell_type": "code",
   "execution_count": null,
   "id": "13f9d1ba-2a07-4cd2-9f70-2ae1c9d1f26d",
   "metadata": {},
   "outputs": [],
   "source": [
    "#Q6. Checking divisibility of elements in a list using a for loop and if-else condition:"
   ]
  },
  {
   "cell_type": "code",
   "execution_count": 9,
   "id": "827fa690-d992-4a40-af01-869a96d26c07",
   "metadata": {},
   "outputs": [
    {
     "name": "stdout",
     "output_type": "stream",
     "text": [
      "1 is not divisible by 3\n",
      "2 is not divisible by 3\n",
      "3 is divisible by 3\n",
      "4 is not divisible by 3\n",
      "5 is not divisible by 3\n",
      "6 is divisible by 3\n",
      "7 is not divisible by 3\n",
      "8 is not divisible by 3\n",
      "9 is divisible by 3\n",
      "10 is not divisible by 3\n",
      "11 is not divisible by 3\n",
      "12 is divisible by 3\n",
      "13 is not divisible by 3\n",
      "14 is not divisible by 3\n",
      "15 is divisible by 3\n",
      "16 is not divisible by 3\n",
      "17 is not divisible by 3\n",
      "18 is divisible by 3\n",
      "19 is not divisible by 3\n",
      "20 is not divisible by 3\n",
      "21 is divisible by 3\n",
      "22 is not divisible by 3\n",
      "23 is not divisible by 3\n",
      "24 is divisible by 3\n",
      "25 is not divisible by 3\n"
     ]
    }
   ],
   "source": [
    "my_list = list(range(1, 26))\n",
    "\n",
    "for num in my_list:\n",
    "    if num % 3 == 0:\n",
    "        print(num, \"is divisible by 3\")\n",
    "    else:\n",
    "        print(num, \"is not divisible by 3\")"
   ]
  },
  {
   "cell_type": "code",
   "execution_count": null,
   "id": "b07b32b9-cb50-4cae-82f0-d557b4e16d35",
   "metadata": {},
   "outputs": [],
   "source": [
    "#Q7. Explanation of mutable and immutable data types:"
   ]
  },
  {
   "cell_type": "code",
   "execution_count": 10,
   "id": "68fac76a-aeda-4d30-a43e-c6017b86d773",
   "metadata": {
    "tags": []
   },
   "outputs": [],
   "source": [
    "'''Mutable data types can be modified after they are created,\n",
    "while immutable data types cannot be modified.\n",
    "When you modify a mutable object, \n",
    "it doesn't create a new object but changes the existing one. \n",
    "In contrast, when you modify an immutable object, \n",
    "a new object is created.'''"
   ]
  },
  {
   "cell_type": "code",
   "execution_count": 12,
   "id": "9fad9f87-a4d9-4537-81f6-a1e620ceb454",
   "metadata": {},
   "outputs": [
    {
     "name": "stdout",
     "output_type": "stream",
     "text": [
      "6\n",
      "Hello World\n",
      "(1, 2, 3, 4, 5)\n"
     ]
    }
   ],
   "source": [
    "# Immutable data types\n",
    "a = 5  # integer\n",
    "b = \"Hello\"  # string\n",
    "c = (1, 2, 3)  # tuple\n",
    "\n",
    "# Modifying immutable objects creates new objects\n",
    "a += 1  # The value of 'a' is incremented by 1, but a new object is created\n",
    "b += \" World\"  # Concatenates \" World\" to the string, but a new object is created\n",
    "c += (4, 5)  # Concatenates (4, 5) to the tuple, but a new object is created\n",
    "\n",
    "print(a)\n",
    "print(b)\n",
    "print(c)"
   ]
  },
  {
   "cell_type": "code",
   "execution_count": 13,
   "id": "c3854199-d8f4-47fa-8757-5682afcd7d3d",
   "metadata": {},
   "outputs": [
    {
     "name": "stdout",
     "output_type": "stream",
     "text": [
      "[1, 2, 3, 4]\n",
      "{'a': 1, 'b': 2, 'c': 3}\n",
      "{1, 2, 3, 4}\n"
     ]
    }
   ],
   "source": [
    "# Mutable data types\n",
    "list1 = [1, 2, 3]  # list\n",
    "dict1 = {'a': 1, 'b': 2}  # dictionary\n",
    "set1 = {1, 2, 3}  # set\n",
    "\n",
    "# Modifying mutable objects updates the same object\n",
    "list1.append(4)  # Adds 4 to the list\n",
    "dict1['c'] = 3  # Adds a new key-value pair to the dictionary\n",
    "set1.add(4)  # Adds 4 to the set\n",
    "\n",
    "print(list1)\n",
    "print(dict1)\n",
    "print(set1)"
   ]
  },
  {
   "cell_type": "code",
   "execution_count": null,
   "id": "70453731-e075-40a7-b676-649b793c83b4",
   "metadata": {},
   "outputs": [],
   "source": []
  }
 ],
 "metadata": {
  "kernelspec": {
   "display_name": "Python 3 (ipykernel)",
   "language": "python",
   "name": "python3"
  },
  "language_info": {
   "codemirror_mode": {
    "name": "ipython",
    "version": 3
   },
   "file_extension": ".py",
   "mimetype": "text/x-python",
   "name": "python",
   "nbconvert_exporter": "python",
   "pygments_lexer": "ipython3",
   "version": "3.10.8"
  }
 },
 "nbformat": 4,
 "nbformat_minor": 5
}
