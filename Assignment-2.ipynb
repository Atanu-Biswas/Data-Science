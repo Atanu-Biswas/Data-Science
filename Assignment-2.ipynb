{
 "cells": [
  {
   "cell_type": "code",
   "execution_count": null,
   "id": "ca219da1-ccfe-4add-b3b5-68ec399f1339",
   "metadata": {},
   "outputs": [],
   "source": [
    "#Q1. How do you comment code in Python? What are the different types of comments?"
   ]
  },
  {
   "cell_type": "code",
   "execution_count": null,
   "id": "81f3d37c-d76b-48d1-a6e7-53d9caebe3a2",
   "metadata": {},
   "outputs": [],
   "source": [
    "#Single-line comments: These comments are used to document code on a single line."
   ]
  },
  {
   "cell_type": "code",
   "execution_count": null,
   "id": "4604d6bd-2bd8-484e-92d4-c32ae451e225",
   "metadata": {},
   "outputs": [],
   "source": [
    "# This is a single-line comment"
   ]
  },
  {
   "cell_type": "code",
   "execution_count": null,
   "id": "9ee51910-9caf-4321-aac0-844c0a503d5a",
   "metadata": {
    "tags": []
   },
   "outputs": [],
   "source": [
    "#Multi-line comments: These comments can span multiple lines and are enclosed within triple quotes (either single or double). They are typically used for longer comments or documentation. For example:"
   ]
  },
  {
   "cell_type": "code",
   "execution_count": null,
   "id": "4fc41186-bed8-4d5a-b7e2-d531bfc22e54",
   "metadata": {},
   "outputs": [],
   "source": [
    "\"\"\"\n",
    "This is a multi-line comment.\n",
    "It can span multiple lines.\n",
    "\"\"\"\n",
    "'''\n",
    "This is also a multi-line comment.\n",
    "It can span multiple lines.\n",
    "'''\n"
   ]
  },
  {
   "cell_type": "code",
   "execution_count": null,
   "id": "da525261-78b4-4841-82f3-ee660837b6d5",
   "metadata": {},
   "outputs": [],
   "source": [
    "# What are variables in Python? How do you declare and assign values to variables?"
   ]
  },
  {
   "cell_type": "code",
   "execution_count": null,
   "id": "31b53fb7-2764-459e-86db-c8a3a4006b83",
   "metadata": {},
   "outputs": [],
   "source": [
    "\"\"\"\n",
    "In Python, variables are \n",
    "used to store data values. They act as placeholders \n",
    "for storing and manipulating data. To declare and assign \n",
    "a value to a variable, we can use the following syntax:\n",
    "\"\"\""
   ]
  },
  {
   "cell_type": "code",
   "execution_count": 6,
   "id": "ae7af8d4-a8ea-4b91-ba62-c030d3f381d7",
   "metadata": {},
   "outputs": [],
   "source": [
    "#variable_name = value\n",
    "name = \"John\"\n",
    "age = 25"
   ]
  },
  {
   "cell_type": "code",
   "execution_count": null,
   "id": "b142e557-9885-42e5-9ae8-95b2736a0563",
   "metadata": {},
   "outputs": [],
   "source": [
    "#Q3. How do you convert one data type to another in Python?"
   ]
  },
  {
   "cell_type": "code",
   "execution_count": null,
   "id": "db9a6f92-299b-4585-97d5-b32b4cff35af",
   "metadata": {},
   "outputs": [],
   "source": [
    "'''\n",
    "In Python, we can use various built-in functions to convert\n",
    "one data type to another. Here are a few common conversion \n",
    "functions:\n",
    "\n",
    "int(): Converts a value to an integer.\n",
    "float(): Converts a value to a floating-point number.\n",
    "str(): Converts a value to a string.\n",
    "list(): Converts a value to a list.\n",
    "tuple(): Converts a value to a tuple.\n",
    "Here's an example of converting a string to an integer:\n",
    "'''"
   ]
  },
  {
   "cell_type": "code",
   "execution_count": 8,
   "id": "cbefbd1f-8a55-4f5a-839a-5cccabec98ca",
   "metadata": {},
   "outputs": [],
   "source": [
    "#Here's an example of converting a string to an integer:\n",
    "age = \"25\"\n",
    "age_int = int(age)"
   ]
  },
  {
   "cell_type": "code",
   "execution_count": null,
   "id": "fc80e70d-9bff-4ba3-bf10-ac0dc77905c9",
   "metadata": {},
   "outputs": [],
   "source": [
    "#Q4. How do you write and execute a Python script from the command line?"
   ]
  },
  {
   "cell_type": "code",
   "execution_count": null,
   "id": "71e88320-86d5-4515-bc6f-b2944f8896bc",
   "metadata": {},
   "outputs": [],
   "source": [
    "'''\n",
    "To write and execute a Python script from the command line, follow these steps:\n",
    "\n",
    "1.Open a text editor and write your Python code.\n",
    "2.Save the file with a .py extension, for example, script.py.\n",
    "3.Open the command line or terminal.\n",
    "4.Navigate to the directory where the script is saved using the cd command.\n",
    "5.Execute the script by typing \"python script.py\" and pressing Enter.\n",
    "'''"
   ]
  },
  {
   "cell_type": "code",
   "execution_count": null,
   "id": "209f62cb-4b9d-4f8c-ba86-12747100e28a",
   "metadata": {},
   "outputs": [],
   "source": [
    "#Q5. Given a list my_list = [1, 2, 3, 4, 5], write the code to slice the list and obtain the sub-list [2, 3]."
   ]
  },
  {
   "cell_type": "code",
   "execution_count": 10,
   "id": "2f8f98fe-ffad-4170-86f6-6bd77bd275db",
   "metadata": {},
   "outputs": [
    {
     "name": "stdout",
     "output_type": "stream",
     "text": [
      "[2, 3]\n"
     ]
    }
   ],
   "source": [
    "'''\n",
    "To obtain the sub-list [2, 3] from the given list my_list, \n",
    "we can use slicing in Python. Here's the code to achieve that:\n",
    "'''\n",
    "my_list = [1, 2, 3, 4, 5]\n",
    "sub_list = my_list[1:3]\n",
    "print(sub_list)"
   ]
  },
  {
   "cell_type": "code",
   "execution_count": null,
   "id": "f0181973-2e52-4cb1-8759-d2ab3d720076",
   "metadata": {},
   "outputs": [],
   "source": [
    "#Q6. What is a complex number in mathematics, and how is it represented in Python?"
   ]
  },
  {
   "cell_type": "code",
   "execution_count": null,
   "id": "aee2015f-8417-4b5c-bfff-d1763aa95eeb",
   "metadata": {},
   "outputs": [],
   "source": [
    "\"\"\"\n",
    "In mathematics, a complex number is a number of the form \"a + bi\", where \"a\" and \"b\" are \n",
    "real numbers and \"i\" represents the imaginary unit (√-1). In Python, complex numbers can be \n",
    "represented using the \"complex()\" function or by directly specifying the real and imaginary parts.\n",
    "\"\"\""
   ]
  },
  {
   "cell_type": "code",
   "execution_count": null,
   "id": "1f65b013-6c78-4dc9-81bd-7cf731e7a025",
   "metadata": {},
   "outputs": [],
   "source": [
    "#Here's an example of creating a complex number in Python:"
   ]
  },
  {
   "cell_type": "code",
   "execution_count": 11,
   "id": "611e934e-a163-4e0c-b354-fd4f894e87f5",
   "metadata": {},
   "outputs": [],
   "source": [
    "z = complex(2, 3)  # Complex number with real part 2 and imaginary part 3"
   ]
  },
  {
   "cell_type": "code",
   "execution_count": null,
   "id": "92cd1b04-851a-414d-860e-23a462859aeb",
   "metadata": {},
   "outputs": [],
   "source": [
    "#Q7. What is the correct way to declare a variable named age and assign the value 25 to it?"
   ]
  },
  {
   "cell_type": "code",
   "execution_count": 12,
   "id": "7cb6f230-d605-4116-9da0-134a4344b614",
   "metadata": {},
   "outputs": [],
   "source": [
    "age = 25"
   ]
  },
  {
   "cell_type": "code",
   "execution_count": null,
   "id": "37afdbd3-ce6e-46b4-b56c-d8a0a5313960",
   "metadata": {},
   "outputs": [],
   "source": [
    "#Q8. Declare a variable named price and assign the value 9.99 to it. What data type does this variable belong to?"
   ]
  },
  {
   "cell_type": "code",
   "execution_count": null,
   "id": "dbdd817a-c8cc-494a-be52-1be12e5d7338",
   "metadata": {},
   "outputs": [],
   "source": [
    "price = 9.99\n",
    "'''\n",
    "In this code, the variable price is declared and assigned the \n",
    "value 9.99. The data type of this variable is a floating-point \n",
    "number (float) because it contains a decimal point.\n",
    "'''"
   ]
  },
  {
   "cell_type": "code",
   "execution_count": null,
   "id": "3ddcbfc7-d418-4c7c-a220-325ae60a4e67",
   "metadata": {},
   "outputs": [],
   "source": [
    "#Q9. Create a variable named name and assign your full name to it as a string. How would you print the value of this variable?"
   ]
  },
  {
   "cell_type": "code",
   "execution_count": 14,
   "id": "223c656a-1bbe-4c5c-994e-75b38231edea",
   "metadata": {},
   "outputs": [
    {
     "name": "stdout",
     "output_type": "stream",
     "text": [
      "Atanu Biswas\n"
     ]
    }
   ],
   "source": [
    "name = \"Atanu Biswas\"\n",
    "#To print the value of this variable, we can use the print() function:\n",
    "print(name)"
   ]
  },
  {
   "cell_type": "code",
   "execution_count": null,
   "id": "02b243bd-af7b-4532-85ef-c6394f590aef",
   "metadata": {},
   "outputs": [],
   "source": [
    "#Q10. Given the string \"Hello, World!\", extract the substring \"World\"."
   ]
  },
  {
   "cell_type": "code",
   "execution_count": 15,
   "id": "1848eeba-35df-4ff9-b8e7-7969815b4ee0",
   "metadata": {},
   "outputs": [
    {
     "name": "stdout",
     "output_type": "stream",
     "text": [
      "World!\n"
     ]
    }
   ],
   "source": [
    "string = \"Hello, World!\"\n",
    "substring = string[7:]\n",
    "print(substring)"
   ]
  },
  {
   "cell_type": "code",
   "execution_count": null,
   "id": "647ceb36-4e40-4ea5-b591-72ccc5a5d46e",
   "metadata": {},
   "outputs": [],
   "source": [
    "#Q11. Create a variable named is_student and assign it a boolean value indicating whether you are currently a student or not."
   ]
  },
  {
   "cell_type": "code",
   "execution_count": 16,
   "id": "27528a56-52c7-4b9e-866d-d48a15a76d73",
   "metadata": {},
   "outputs": [],
   "source": [
    "is_student = True  # or False, depending on your student status"
   ]
  },
  {
   "cell_type": "code",
   "execution_count": null,
   "id": "838d3e5b-63fb-4fa2-8ca4-09f670296cba",
   "metadata": {},
   "outputs": [],
   "source": []
  }
 ],
 "metadata": {
  "kernelspec": {
   "display_name": "Python 3 (ipykernel)",
   "language": "python",
   "name": "python3"
  },
  "language_info": {
   "codemirror_mode": {
    "name": "ipython",
    "version": 3
   },
   "file_extension": ".py",
   "mimetype": "text/x-python",
   "name": "python",
   "nbconvert_exporter": "python",
   "pygments_lexer": "ipython3",
   "version": "3.10.8"
  }
 },
 "nbformat": 4,
 "nbformat_minor": 5
}
